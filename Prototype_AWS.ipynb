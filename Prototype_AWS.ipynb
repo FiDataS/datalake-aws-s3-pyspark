{
 "cells": [
  {
   "cell_type": "code",
   "execution_count": 1,
   "metadata": {
    "editable": true
   },
   "outputs": [],
   "source": [
    "from pyspark.sql import SparkSession\n",
    "import pandas as pd\n",
    "from pyspark.sql.functions import col, udf\n",
    "from datetime import datetime\n",
    "from pyspark.sql.functions import year, month, dayofmonth, hour, weekofyear, dayofweek, monotonically_increasing_id\n",
    "from pyspark.sql.types import TimestampType, DateType\n",
    "import os\n",
    "import configparser"
   ]
  },
  {
   "cell_type": "code",
   "execution_count": 2,
   "metadata": {
    "editable": true
   },
   "outputs": [],
   "source": [
    "config = configparser.ConfigParser()\n",
    "config.read('dl.cfg')\n",
    "\n",
    "os.environ['AWS_ACCESS_KEY_ID']=config['AWS']['AWS_ACCESS_KEY_ID']\n",
    "os.environ['AWS_SECRET_ACCESS_KEY']=config['AWS']['AWS_SECRET_ACCESS_KEY']"
   ]
  },
  {
   "cell_type": "code",
   "execution_count": 3,
   "metadata": {
    "editable": true
   },
   "outputs": [],
   "source": [
    "spark = SparkSession \\\n",
    "        .builder \\\n",
    "        .config(\"spark.jars.packages\", \"org.apache.hadoop:hadoop-aws:2.7.0\") \\\n",
    "        .getOrCreate()"
   ]
  },
  {
   "cell_type": "code",
   "execution_count": 4,
   "metadata": {
    "editable": true
   },
   "outputs": [],
   "source": [
    "song_data = 's3a://udacity-dend/song_data/A/A/A/*.json'\n",
    "    \n",
    "# read song data file\n",
    "df = spark.read.json(song_data)"
   ]
  },
  {
   "cell_type": "code",
   "execution_count": 5,
   "metadata": {
    "editable": true
   },
   "outputs": [
    {
     "name": "stdout",
     "output_type": "stream",
     "text": [
      "+------------------+---------------+--------------------+----------------+--------------------+---------+---------+------------------+--------------------+----+\n",
      "|         artist_id|artist_latitude|     artist_location|artist_longitude|         artist_name| duration|num_songs|           song_id|               title|year|\n",
      "+------------------+---------------+--------------------+----------------+--------------------+---------+---------+------------------+--------------------+----+\n",
      "|ARTC1LV1187B9A4858|        51.4536|Goldsmith's Colle...|        -0.01802|  The Bonzo Dog Band|301.40036|        1|SOAFBCP12A8C13CC7D|King Of Scurf (20...|1972|\n",
      "|ARA23XO1187B9AF18F|       40.57885|Carteret, New Jersey|       -74.21956|     The Smithereens|  192.522|        1|SOKTJDS12AF72A25E5|Drown In My Own T...|   0|\n",
      "|ARSVTNL1187B992A91|       51.50632|     London, England|        -0.12714|       Jonathan King|129.85424|        1|SOEKAZG12AB018837E|I'll Slap Your Fa...|2001|\n",
      "|AR73AIO1187B9AD57B|       37.77916|   San Francisco, CA|      -122.42005|   Western Addiction|118.07302|        1|SOQPWCR12A6D4FB2A3|A Poor Recipe For...|2005|\n",
      "|ARXQBR11187B98A2CC|           null|  Liverpool, England|            null|Frankie Goes To H...|821.05424|        1|SOBRKGM12A8C139EF6|Welcome to the Pl...|1985|\n",
      "+------------------+---------------+--------------------+----------------+--------------------+---------+---------+------------------+--------------------+----+\n",
      "only showing top 5 rows\n",
      "\n"
     ]
    }
   ],
   "source": [
    "df.show(5)"
   ]
  },
  {
   "cell_type": "code",
   "execution_count": null,
   "metadata": {
    "editable": true
   },
   "outputs": [],
   "source": []
  },
  {
   "cell_type": "code",
   "execution_count": 6,
   "metadata": {
    "editable": true
   },
   "outputs": [],
   "source": [
    "input_data = 's3a://udacity-dend/'\n",
    "output_data = 's3a://sparkify-table-bucket/'\n",
    "\n",
    "def process_song_data(spark=spark, input_data=input_data, output_data=output_data):\n",
    "    # get filepath to song data file\n",
    "    song_data = input_data + 'song_data/A/A/A/*.json'\n",
    "    \n",
    "    # read song data file\n",
    "    df = spark.read.json(song_data)\n",
    "    df.show(5, truncate=False)\n",
    "\n",
    "    # extract columns to create songs table (song_id, title, artist_id, year, duration)\n",
    "    songs_table = df.select('song_id', 'title', 'artist_id', 'year', 'duration').distinct()\n",
    "    \n",
    "    # write songs table to parquet files partitioned by year and artist\n",
    "    songs_table.write.partitionBy('year', 'artist_id').mode('overwrite').parquet(output_data + 'songs')\n",
    "    songs_table.show(5, truncate=False)\n",
    "\n",
    "    # extract columns to create artists table(artist_id, name, location, lattitude, longitude)\n",
    "    artists_table = df.select('artist_id', col('artist_name').alias('name'), col('artist_location').alias('location'), col('artist_latitude').alias('latitude'), col('artist_longitude').alias('longitude')).distinct()\n",
    "    \n",
    "    # write artists table to parquet files\n",
    "    artists_table.write.mode('overwrite').parquet(output_data + 'artists')\n",
    "    artists_table.show(5, truncate=False)"
   ]
  },
  {
   "cell_type": "code",
   "execution_count": 7,
   "metadata": {
    "editable": true
   },
   "outputs": [
    {
     "name": "stdout",
     "output_type": "stream",
     "text": [
      "+------------------+---------------+---------------------------------+----------------+-------------------------+---------+---------+------------------+------------------------------------------------------+----+\n",
      "|artist_id         |artist_latitude|artist_location                  |artist_longitude|artist_name              |duration |num_songs|song_id           |title                                                 |year|\n",
      "+------------------+---------------+---------------------------------+----------------+-------------------------+---------+---------+------------------+------------------------------------------------------+----+\n",
      "|ARTC1LV1187B9A4858|51.4536        |Goldsmith's College, Lewisham, Lo|-0.01802        |The Bonzo Dog Band       |301.40036|1        |SOAFBCP12A8C13CC7D|King Of Scurf (2007 Digital Remaster)                 |1972|\n",
      "|ARA23XO1187B9AF18F|40.57885       |Carteret, New Jersey             |-74.21956       |The Smithereens          |192.522  |1        |SOKTJDS12AF72A25E5|Drown In My Own Tears (24-Bit Digitally Remastered 04)|0   |\n",
      "|ARSVTNL1187B992A91|51.50632       |London, England                  |-0.12714        |Jonathan King            |129.85424|1        |SOEKAZG12AB018837E|I'll Slap Your Face (Entertainment USA Theme)         |2001|\n",
      "|AR73AIO1187B9AD57B|37.77916       |San Francisco, CA                |-122.42005      |Western Addiction        |118.07302|1        |SOQPWCR12A6D4FB2A3|A Poor Recipe For Civic Cohesion                      |2005|\n",
      "|ARXQBR11187B98A2CC|null           |Liverpool, England               |null            |Frankie Goes To Hollywood|821.05424|1        |SOBRKGM12A8C139EF6|Welcome to the Pleasuredome                           |1985|\n",
      "+------------------+---------------+---------------------------------+----------------+-------------------------+---------+---------+------------------+------------------------------------------------------+----+\n",
      "only showing top 5 rows\n",
      "\n",
      "+------------------+----------------------------+------------------+----+---------+\n",
      "|song_id           |title                       |artist_id         |year|duration |\n",
      "+------------------+----------------------------+------------------+----+---------+\n",
      "|SODZYPO12A8C13A91E|Burn My Body (Album Version)|AR1C2IX1187B99BF74|0   |177.99791|\n",
      "|SOIGHOD12A8C13B5A1|Indian Angel                |ARY589G1187B9A9F4E|2004|171.57179|\n",
      "|SOOVHYF12A8C134892|I'll Be Waiting             |ARCLYBR1187FB53913|1989|304.56118|\n",
      "|SOAPERH12A58A787DC|The One And Only (Edited)   |ARZ5H0P1187B98A1DD|0   |230.42567|\n",
      "|SOHKNRJ12A6701D1F8|Drop of Rain                |AR10USD1187B99F3F1|0   |189.57016|\n",
      "+------------------+----------------------------+------------------+----+---------+\n",
      "only showing top 5 rows\n",
      "\n",
      "+------------------+-------------+---------------+--------+----------+\n",
      "|artist_id         |name         |location       |latitude|longitude |\n",
      "+------------------+-------------+---------------+--------+----------+\n",
      "|ARSVTNL1187B992A91|Jonathan King|London, England|51.50632|-0.12714  |\n",
      "|ARXR32B1187FB57099|Gob          |               |null    |null      |\n",
      "|ARZKCQM1257509D107|Dataphiles   |               |null    |null      |\n",
      "|ARC1IHZ1187FB4E920|Jamie Cullum |               |null    |null      |\n",
      "|AR1KTV21187B9ACD72|Cristina     |California - LA|34.05349|-118.24532|\n",
      "+------------------+-------------+---------------+--------+----------+\n",
      "only showing top 5 rows\n",
      "\n"
     ]
    }
   ],
   "source": [
    "process_song_data()"
   ]
  },
  {
   "cell_type": "code",
   "execution_count": null,
   "metadata": {
    "editable": true
   },
   "outputs": [],
   "source": []
  },
  {
   "cell_type": "code",
   "execution_count": null,
   "metadata": {
    "editable": true
   },
   "outputs": [],
   "source": []
  },
  {
   "cell_type": "code",
   "execution_count": null,
   "metadata": {
    "editable": true
   },
   "outputs": [],
   "source": []
  },
  {
   "cell_type": "code",
   "execution_count": null,
   "metadata": {
    "editable": true
   },
   "outputs": [],
   "source": []
  },
  {
   "cell_type": "code",
   "execution_count": null,
   "metadata": {
    "editable": true
   },
   "outputs": [],
   "source": []
  },
  {
   "cell_type": "code",
   "execution_count": null,
   "metadata": {
    "editable": true
   },
   "outputs": [],
   "source": []
  },
  {
   "cell_type": "code",
   "execution_count": 8,
   "metadata": {
    "editable": true
   },
   "outputs": [],
   "source": [
    "input_data = 's3a://udacity-dend/'\n",
    "output_data = 's3a://sparkify-table-bucket/'\n",
    "\n",
    "def process_log_data(spark = spark, input_data = input_data, output_data = output_data):\n",
    "\n",
    "    # read log data file\n",
    "    df_log = spark.read.json(input_data + 'log_data/2018/11/*.json')\n",
    "    \n",
    "    # filter by actions for song plays\n",
    "    df_log = df_log.filter(df_log.page == 'NextSong')\n",
    "    df_log.show(5, truncate=False)\n",
    "\n",
    "    # extract columns for users table    \n",
    "    users_table = df_log.select(col('userId').alias('user_id'), col('firstName').alias('first_name'), col('lastName').alias('last_name'), 'gender', 'level').distinct()\n",
    "    \n",
    "    # write users table to parquet files\n",
    "    users_table.write.mode('overwrite').parquet(output_data + 'users')\n",
    "    users_table.show(5, truncate=False)\n",
    "\n",
    "    # create timestamp column from original timestamp column in datetime format\n",
    "    # neccessary to define the return type of udf as timestamp type\n",
    "    get_timestamp = udf(lambda ts: datetime.fromtimestamp(ts/1000),TimestampType())\n",
    "    df_log = df_log.withColumn('start_time', get_timestamp(df_log.ts))\n",
    "    df_log.show(5, truncate=False)\n",
    "    \n",
    "    # extract columns to create time table\n",
    "    time_table = df_log.select('start_time') \\\n",
    "                    .withColumn('hour', hour('start_time')) \\\n",
    "                    .withColumn('day', dayofmonth('start_time')) \\\n",
    "                    .withColumn('week', weekofyear('start_time')) \\\n",
    "                    .withColumn('month', month('start_time'))\\\n",
    "                    .withColumn('year', year('start_time')) \\\n",
    "                    .withColumn('weekday', dayofweek('start_time'))\n",
    "    \n",
    "    # write time table to parquet files partitioned by year and month\n",
    "    time_table.write.partitionBy('year', 'month').mode('overwrite').parquet(output_data + 'time')\n",
    "    time_table.show(5, truncate=False)\n",
    "\n",
    "    # read in song data to use for songplays table\n",
    "    df_song = spark.read.json(input_data + 'song_data/A/A/A/*.json')\n",
    "\n",
    "    # extract columns from joined song and log datasets to create songplays table \n",
    "    \n",
    "    songplays_table = df_log.join(df_song, (df_log.song == df_song.title)\\\n",
    "                                        & (df_log.artist == df_song.artist_name)\\\n",
    "                                        & (df_log.length == df_song.duration), \"inner\") \\\n",
    "                            .distinct() \\\n",
    "                            .select('start_time', col('userId').alias('user_id'), 'level', 'song_id', \\\n",
    "                                    'artist_id', col('sessionId').alias('session_id'),'location', col('userAgent').alias('user_agent')) \\\n",
    "                            .withColumn(\"songplay_id\", monotonically_increasing_id()).withColumn('year', year('start_time')).withColumn('month', month('start_time'))\n",
    "\n",
    "    # write songplays table to parquet files partitioned by year and month\n",
    "    songplays_table.write.partitionBy('year', 'month').mode('overwrite').parquet(output_data + 'songplays')\n",
    "    songplays_table.show(5, truncate=False)"
   ]
  },
  {
   "cell_type": "code",
   "execution_count": 9,
   "metadata": {
    "editable": true
   },
   "outputs": [
    {
     "name": "stdout",
     "output_type": "stream",
     "text": [
      "+-----------+---------+---------+------+-------------+--------+---------+-----+------------------------------------+------+--------+-----------------+---------+----------------------------------------------+------+-------------+-----------------------------------------------------------------------------------------------------------------------------------------+------+\n",
      "|artist     |auth     |firstName|gender|itemInSession|lastName|length   |level|location                            |method|page    |registration     |sessionId|song                                          |status|ts           |userAgent                                                                                                                                |userId|\n",
      "+-----------+---------+---------+------+-------------+--------+---------+-----+------------------------------------+------+--------+-----------------+---------+----------------------------------------------+------+-------------+-----------------------------------------------------------------------------------------------------------------------------------------+------+\n",
      "|Harmonia   |Logged In|Ryan     |M     |0            |Smith   |655.77751|free |San Jose-Sunnyvale-Santa Clara, CA  |PUT   |NextSong|1.541016707796E12|583      |Sehr kosmisch                                 |200   |1542241826796|\"Mozilla/5.0 (X11; Linux x86_64) AppleWebKit/537.36 (KHTML, like Gecko) Ubuntu Chromium/36.0.1985.125 Chrome/36.0.1985.125 Safari/537.36\"|26    |\n",
      "|The Prodigy|Logged In|Ryan     |M     |1            |Smith   |260.07465|free |San Jose-Sunnyvale-Santa Clara, CA  |PUT   |NextSong|1.541016707796E12|583      |The Big Gundown                               |200   |1542242481796|\"Mozilla/5.0 (X11; Linux x86_64) AppleWebKit/537.36 (KHTML, like Gecko) Ubuntu Chromium/36.0.1985.125 Chrome/36.0.1985.125 Safari/537.36\"|26    |\n",
      "|Train      |Logged In|Ryan     |M     |2            |Smith   |205.45261|free |San Jose-Sunnyvale-Santa Clara, CA  |PUT   |NextSong|1.541016707796E12|583      |Marry Me                                      |200   |1542242741796|\"Mozilla/5.0 (X11; Linux x86_64) AppleWebKit/537.36 (KHTML, like Gecko) Ubuntu Chromium/36.0.1985.125 Chrome/36.0.1985.125 Safari/537.36\"|26    |\n",
      "|Sony Wonder|Logged In|Samuel   |M     |0            |Gonzalez|218.06975|free |Houston-The Woodlands-Sugar Land, TX|PUT   |NextSong|1.540492941796E12|597      |Blackbird                                     |200   |1542253449796|\"Mozilla/5.0 (Macintosh; Intel Mac OS X 10_9_4) AppleWebKit/537.77.4 (KHTML, like Gecko) Version/7.0.5 Safari/537.77.4\"                  |61    |\n",
      "|Van Halen  |Logged In|Tegan    |F     |2            |Levine  |289.38404|paid |Portland-South Portland, ME         |PUT   |NextSong|1.540794356796E12|602      |Best Of Both Worlds (Remastered Album Version)|200   |1542260935796|\"Mozilla/5.0 (Macintosh; Intel Mac OS X 10_9_4) AppleWebKit/537.36 (KHTML, like Gecko) Chrome/36.0.1985.143 Safari/537.36\"               |80    |\n",
      "+-----------+---------+---------+------+-------------+--------+---------+-----+------------------------------------+------+--------+-----------------+---------+----------------------------------------------+------+-------------+-----------------------------------------------------------------------------------------------------------------------------------------+------+\n",
      "only showing top 5 rows\n",
      "\n",
      "+-------+----------+---------+------+-----+\n",
      "|user_id|first_name|last_name|gender|level|\n",
      "+-------+----------+---------+------+-----+\n",
      "|26     |Ryan      |Smith    |M     |free |\n",
      "|7      |Adelyn    |Jordan   |F     |free |\n",
      "|71     |Ayleen    |Wise     |F     |free |\n",
      "|81     |Sienna    |Colon    |F     |free |\n",
      "|87     |Dustin    |Lee      |M     |free |\n",
      "+-------+----------+---------+------+-----+\n",
      "only showing top 5 rows\n",
      "\n",
      "+-----------+---------+---------+------+-------------+--------+---------+-----+------------------------------------+------+--------+-----------------+---------+----------------------------------------------+------+-------------+-----------------------------------------------------------------------------------------------------------------------------------------+------+-----------------------+\n",
      "|artist     |auth     |firstName|gender|itemInSession|lastName|length   |level|location                            |method|page    |registration     |sessionId|song                                          |status|ts           |userAgent                                                                                                                                |userId|start_time             |\n",
      "+-----------+---------+---------+------+-------------+--------+---------+-----+------------------------------------+------+--------+-----------------+---------+----------------------------------------------+------+-------------+-----------------------------------------------------------------------------------------------------------------------------------------+------+-----------------------+\n",
      "|Harmonia   |Logged In|Ryan     |M     |0            |Smith   |655.77751|free |San Jose-Sunnyvale-Santa Clara, CA  |PUT   |NextSong|1.541016707796E12|583      |Sehr kosmisch                                 |200   |1542241826796|\"Mozilla/5.0 (X11; Linux x86_64) AppleWebKit/537.36 (KHTML, like Gecko) Ubuntu Chromium/36.0.1985.125 Chrome/36.0.1985.125 Safari/537.36\"|26    |2018-11-15 00:30:26.796|\n",
      "|The Prodigy|Logged In|Ryan     |M     |1            |Smith   |260.07465|free |San Jose-Sunnyvale-Santa Clara, CA  |PUT   |NextSong|1.541016707796E12|583      |The Big Gundown                               |200   |1542242481796|\"Mozilla/5.0 (X11; Linux x86_64) AppleWebKit/537.36 (KHTML, like Gecko) Ubuntu Chromium/36.0.1985.125 Chrome/36.0.1985.125 Safari/537.36\"|26    |2018-11-15 00:41:21.796|\n",
      "|Train      |Logged In|Ryan     |M     |2            |Smith   |205.45261|free |San Jose-Sunnyvale-Santa Clara, CA  |PUT   |NextSong|1.541016707796E12|583      |Marry Me                                      |200   |1542242741796|\"Mozilla/5.0 (X11; Linux x86_64) AppleWebKit/537.36 (KHTML, like Gecko) Ubuntu Chromium/36.0.1985.125 Chrome/36.0.1985.125 Safari/537.36\"|26    |2018-11-15 00:45:41.796|\n",
      "|Sony Wonder|Logged In|Samuel   |M     |0            |Gonzalez|218.06975|free |Houston-The Woodlands-Sugar Land, TX|PUT   |NextSong|1.540492941796E12|597      |Blackbird                                     |200   |1542253449796|\"Mozilla/5.0 (Macintosh; Intel Mac OS X 10_9_4) AppleWebKit/537.77.4 (KHTML, like Gecko) Version/7.0.5 Safari/537.77.4\"                  |61    |2018-11-15 03:44:09.796|\n",
      "|Van Halen  |Logged In|Tegan    |F     |2            |Levine  |289.38404|paid |Portland-South Portland, ME         |PUT   |NextSong|1.540794356796E12|602      |Best Of Both Worlds (Remastered Album Version)|200   |1542260935796|\"Mozilla/5.0 (Macintosh; Intel Mac OS X 10_9_4) AppleWebKit/537.36 (KHTML, like Gecko) Chrome/36.0.1985.143 Safari/537.36\"               |80    |2018-11-15 05:48:55.796|\n",
      "+-----------+---------+---------+------+-------------+--------+---------+-----+------------------------------------+------+--------+-----------------+---------+----------------------------------------------+------+-------------+-----------------------------------------------------------------------------------------------------------------------------------------+------+-----------------------+\n",
      "only showing top 5 rows\n",
      "\n",
      "+-----------------------+----+---+----+-----+----+-------+\n",
      "|start_time             |hour|day|week|month|year|weekday|\n",
      "+-----------------------+----+---+----+-----+----+-------+\n",
      "|2018-11-15 00:30:26.796|0   |15 |46  |11   |2018|5      |\n",
      "|2018-11-15 00:41:21.796|0   |15 |46  |11   |2018|5      |\n",
      "|2018-11-15 00:45:41.796|0   |15 |46  |11   |2018|5      |\n",
      "|2018-11-15 03:44:09.796|3   |15 |46  |11   |2018|5      |\n",
      "|2018-11-15 05:48:55.796|5   |15 |46  |11   |2018|5      |\n",
      "+-----------------------+----+---+----+-----+----+-------+\n",
      "only showing top 5 rows\n",
      "\n",
      "+----------+-------+-----+-------+---------+----------+--------+----------+-----------+----+-----+\n",
      "|start_time|user_id|level|song_id|artist_id|session_id|location|user_agent|songplay_id|year|month|\n",
      "+----------+-------+-----+-------+---------+----------+--------+----------+-----------+----+-----+\n",
      "+----------+-------+-----+-------+---------+----------+--------+----------+-----------+----+-----+\n",
      "\n"
     ]
    }
   ],
   "source": [
    "process_log_data()"
   ]
  },
  {
   "cell_type": "code",
   "execution_count": null,
   "metadata": {
    "editable": true
   },
   "outputs": [],
   "source": []
  },
  {
   "cell_type": "code",
   "execution_count": null,
   "metadata": {
    "editable": true
   },
   "outputs": [],
   "source": []
  },
  {
   "cell_type": "code",
   "execution_count": null,
   "metadata": {
    "editable": true
   },
   "outputs": [],
   "source": []
  },
  {
   "cell_type": "code",
   "execution_count": null,
   "metadata": {
    "editable": true
   },
   "outputs": [],
   "source": []
  },
  {
   "cell_type": "code",
   "execution_count": null,
   "metadata": {
    "editable": true
   },
   "outputs": [],
   "source": []
  },
  {
   "cell_type": "code",
   "execution_count": null,
   "metadata": {
    "editable": true
   },
   "outputs": [],
   "source": []
  },
  {
   "cell_type": "code",
   "execution_count": null,
   "metadata": {
    "editable": true
   },
   "outputs": [],
   "source": []
  }
 ],
 "metadata": {
  "kernelspec": {
   "display_name": "Python 3",
   "language": "python",
   "name": "python3"
  },
  "language_info": {
   "codemirror_mode": {
    "name": "ipython",
    "version": 3
   },
   "file_extension": ".py",
   "mimetype": "text/x-python",
   "name": "python",
   "nbconvert_exporter": "python",
   "pygments_lexer": "ipython3",
   "version": "3.6.3"
  }
 },
 "nbformat": 4,
 "nbformat_minor": 4
}
